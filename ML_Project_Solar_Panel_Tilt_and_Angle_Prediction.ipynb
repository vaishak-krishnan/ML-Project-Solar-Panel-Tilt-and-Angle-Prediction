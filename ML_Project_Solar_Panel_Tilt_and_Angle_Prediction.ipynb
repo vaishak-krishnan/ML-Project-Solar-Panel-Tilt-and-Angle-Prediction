{
  "nbformat": 4,
  "nbformat_minor": 0,
  "metadata": {
    "colab": {
      "provenance": [],
      "include_colab_link": true
    },
    "kernelspec": {
      "name": "python3",
      "display_name": "Python 3"
    },
    "language_info": {
      "name": "python"
    }
  },
  "cells": [
    {
      "cell_type": "markdown",
      "metadata": {
        "id": "view-in-github",
        "colab_type": "text"
      },
      "source": [
        "<a href=\"https://colab.research.google.com/github/vaishak-krishnan/ML-Project-Solar-Panel-Tilt-and-Angle-Prediction/blob/main/ML_Project_Solar_Panel_Tilt_and_Angle_Prediction.ipynb\" target=\"_parent\"><img src=\"https://colab.research.google.com/assets/colab-badge.svg\" alt=\"Open In Colab\"/></a>"
      ]
    },
    {
      "cell_type": "code",
      "execution_count": null,
      "metadata": {
        "colab": {
          "base_uri": "https://localhost:8080/",
          "height": 1000
        },
        "id": "fStURtrx6MEn",
        "outputId": "6838b869-3dfa-4f5b-e0ba-6e41d445b249"
      },
      "outputs": [
        {
          "output_type": "stream",
          "name": "stdout",
          "text": [
            "Mounted at /content/drive\n",
            "First few rows of the dataset:\n",
            "    Latitude  Longitude  Season  Relative Humidity (%)  Solar Zenith Angle  \\\n",
            "0  12.286790  74.961267  Summer                  70.17              105.57   \n",
            "1  12.267178  77.044225  Summer                  89.46              125.37   \n",
            "2  11.945807  77.242545  Autumn                  84.29               85.53   \n",
            "3   9.338162  74.846201  Summer                  84.40              109.30   \n",
            "4   9.281156  75.384534  Winter                  70.86              132.42   \n",
            "\n",
            "   Pressure  Wind Speed  Panel Angle  Capacity  \n",
            "0     26.48        4.00        32.26    296.24  \n",
            "1     28.76        3.06        33.21    252.63  \n",
            "2     29.32        4.32        28.39    269.96  \n",
            "3     31.55        3.63        27.55    258.97  \n",
            "4     30.62        3.26        26.61    280.91  \n",
            "\n",
            "Missing values in the dataset:\n",
            "Latitude                 0\n",
            "Longitude                0\n",
            "Season                   0\n",
            "Relative Humidity (%)    0\n",
            "Solar Zenith Angle       0\n",
            "Pressure                 0\n",
            "Wind Speed               0\n",
            "Panel Angle              0\n",
            "Capacity                 0\n",
            "dtype: int64\n",
            "\n",
            "Summary statistics:\n",
            "         Latitude   Longitude  Relative Humidity (%)  Solar Zenith Angle  \\\n",
            "count  100.000000  100.000000             100.000000           100.00000   \n",
            "mean    10.487208   76.034813              80.088200           102.93930   \n",
            "std      1.154106    0.830598               5.733924            25.46574   \n",
            "min      8.433657   74.468915              70.100000            61.44000   \n",
            "25%      9.356853   75.317901              75.525000            81.86000   \n",
            "50%     10.446939   76.158371              80.275000           100.74500   \n",
            "75%     11.473352   76.673078              84.422500           125.46000   \n",
            "max     12.680503   77.436182              89.930000           149.50000   \n",
            "\n",
            "         Pressure  Wind Speed  Panel Angle    Capacity  \n",
            "count  100.000000  100.000000   100.000000  100.000000  \n",
            "mean    28.898700    2.974900    30.219000  275.455800  \n",
            "std      2.138299    1.109215     3.211998   45.015419  \n",
            "min     25.010000    1.140000    25.040000  202.260000  \n",
            "25%     26.897500    1.952500    27.400000  235.777500  \n",
            "50%     28.985000    3.035000    30.355000  267.540000  \n",
            "75%     30.815000    4.000000    33.165000  318.630000  \n",
            "max     31.990000    4.780000    34.990000  348.290000  \n"
          ]
        },
        {
          "output_type": "error",
          "ename": "ValueError",
          "evalue": "could not convert string to float: 'Summer'",
          "traceback": [
            "\u001b[0;31m---------------------------------------------------------------------------\u001b[0m",
            "\u001b[0;31mValueError\u001b[0m                                Traceback (most recent call last)",
            "\u001b[0;32m<ipython-input-2-08a039870f04>\u001b[0m in \u001b[0;36m<cell line: 23>\u001b[0;34m()\u001b[0m\n\u001b[1;32m     21\u001b[0m \u001b[0;34m\u001b[0m\u001b[0m\n\u001b[1;32m     22\u001b[0m \u001b[0;31m# Explore correlations between variables\u001b[0m\u001b[0;34m\u001b[0m\u001b[0;34m\u001b[0m\u001b[0m\n\u001b[0;32m---> 23\u001b[0;31m \u001b[0mcorrelation_matrix\u001b[0m \u001b[0;34m=\u001b[0m \u001b[0mdf\u001b[0m\u001b[0;34m.\u001b[0m\u001b[0mcorr\u001b[0m\u001b[0;34m(\u001b[0m\u001b[0;34m)\u001b[0m\u001b[0;34m\u001b[0m\u001b[0;34m\u001b[0m\u001b[0m\n\u001b[0m\u001b[1;32m     24\u001b[0m \u001b[0mplt\u001b[0m\u001b[0;34m.\u001b[0m\u001b[0mfigure\u001b[0m\u001b[0;34m(\u001b[0m\u001b[0mfigsize\u001b[0m\u001b[0;34m=\u001b[0m\u001b[0;34m(\u001b[0m\u001b[0;36m10\u001b[0m\u001b[0;34m,\u001b[0m \u001b[0;36m8\u001b[0m\u001b[0;34m)\u001b[0m\u001b[0;34m)\u001b[0m\u001b[0;34m\u001b[0m\u001b[0;34m\u001b[0m\u001b[0m\n\u001b[1;32m     25\u001b[0m \u001b[0msns\u001b[0m\u001b[0;34m.\u001b[0m\u001b[0mheatmap\u001b[0m\u001b[0;34m(\u001b[0m\u001b[0mcorrelation_matrix\u001b[0m\u001b[0;34m,\u001b[0m \u001b[0mannot\u001b[0m\u001b[0;34m=\u001b[0m\u001b[0;32mTrue\u001b[0m\u001b[0;34m,\u001b[0m \u001b[0mcmap\u001b[0m\u001b[0;34m=\u001b[0m\u001b[0;34m'coolwarm'\u001b[0m\u001b[0;34m,\u001b[0m \u001b[0mfmt\u001b[0m\u001b[0;34m=\u001b[0m\u001b[0;34m'.2f'\u001b[0m\u001b[0;34m)\u001b[0m\u001b[0;34m\u001b[0m\u001b[0;34m\u001b[0m\u001b[0m\n",
            "\u001b[0;32m/usr/local/lib/python3.10/dist-packages/pandas/core/frame.py\u001b[0m in \u001b[0;36mcorr\u001b[0;34m(self, method, min_periods, numeric_only)\u001b[0m\n\u001b[1;32m  10052\u001b[0m         \u001b[0mcols\u001b[0m \u001b[0;34m=\u001b[0m \u001b[0mdata\u001b[0m\u001b[0;34m.\u001b[0m\u001b[0mcolumns\u001b[0m\u001b[0;34m\u001b[0m\u001b[0;34m\u001b[0m\u001b[0m\n\u001b[1;32m  10053\u001b[0m         \u001b[0midx\u001b[0m \u001b[0;34m=\u001b[0m \u001b[0mcols\u001b[0m\u001b[0;34m.\u001b[0m\u001b[0mcopy\u001b[0m\u001b[0;34m(\u001b[0m\u001b[0;34m)\u001b[0m\u001b[0;34m\u001b[0m\u001b[0;34m\u001b[0m\u001b[0m\n\u001b[0;32m> 10054\u001b[0;31m         \u001b[0mmat\u001b[0m \u001b[0;34m=\u001b[0m \u001b[0mdata\u001b[0m\u001b[0;34m.\u001b[0m\u001b[0mto_numpy\u001b[0m\u001b[0;34m(\u001b[0m\u001b[0mdtype\u001b[0m\u001b[0;34m=\u001b[0m\u001b[0mfloat\u001b[0m\u001b[0;34m,\u001b[0m \u001b[0mna_value\u001b[0m\u001b[0;34m=\u001b[0m\u001b[0mnp\u001b[0m\u001b[0;34m.\u001b[0m\u001b[0mnan\u001b[0m\u001b[0;34m,\u001b[0m \u001b[0mcopy\u001b[0m\u001b[0;34m=\u001b[0m\u001b[0;32mFalse\u001b[0m\u001b[0;34m)\u001b[0m\u001b[0;34m\u001b[0m\u001b[0;34m\u001b[0m\u001b[0m\n\u001b[0m\u001b[1;32m  10055\u001b[0m \u001b[0;34m\u001b[0m\u001b[0m\n\u001b[1;32m  10056\u001b[0m         \u001b[0;32mif\u001b[0m \u001b[0mmethod\u001b[0m \u001b[0;34m==\u001b[0m \u001b[0;34m\"pearson\"\u001b[0m\u001b[0;34m:\u001b[0m\u001b[0;34m\u001b[0m\u001b[0;34m\u001b[0m\u001b[0m\n",
            "\u001b[0;32m/usr/local/lib/python3.10/dist-packages/pandas/core/frame.py\u001b[0m in \u001b[0;36mto_numpy\u001b[0;34m(self, dtype, copy, na_value)\u001b[0m\n\u001b[1;32m   1836\u001b[0m         \u001b[0;32mif\u001b[0m \u001b[0mdtype\u001b[0m \u001b[0;32mis\u001b[0m \u001b[0;32mnot\u001b[0m \u001b[0;32mNone\u001b[0m\u001b[0;34m:\u001b[0m\u001b[0;34m\u001b[0m\u001b[0;34m\u001b[0m\u001b[0m\n\u001b[1;32m   1837\u001b[0m             \u001b[0mdtype\u001b[0m \u001b[0;34m=\u001b[0m \u001b[0mnp\u001b[0m\u001b[0;34m.\u001b[0m\u001b[0mdtype\u001b[0m\u001b[0;34m(\u001b[0m\u001b[0mdtype\u001b[0m\u001b[0;34m)\u001b[0m\u001b[0;34m\u001b[0m\u001b[0;34m\u001b[0m\u001b[0m\n\u001b[0;32m-> 1838\u001b[0;31m         \u001b[0mresult\u001b[0m \u001b[0;34m=\u001b[0m \u001b[0mself\u001b[0m\u001b[0;34m.\u001b[0m\u001b[0m_mgr\u001b[0m\u001b[0;34m.\u001b[0m\u001b[0mas_array\u001b[0m\u001b[0;34m(\u001b[0m\u001b[0mdtype\u001b[0m\u001b[0;34m=\u001b[0m\u001b[0mdtype\u001b[0m\u001b[0;34m,\u001b[0m \u001b[0mcopy\u001b[0m\u001b[0;34m=\u001b[0m\u001b[0mcopy\u001b[0m\u001b[0;34m,\u001b[0m \u001b[0mna_value\u001b[0m\u001b[0;34m=\u001b[0m\u001b[0mna_value\u001b[0m\u001b[0;34m)\u001b[0m\u001b[0;34m\u001b[0m\u001b[0;34m\u001b[0m\u001b[0m\n\u001b[0m\u001b[1;32m   1839\u001b[0m         \u001b[0;32mif\u001b[0m \u001b[0mresult\u001b[0m\u001b[0;34m.\u001b[0m\u001b[0mdtype\u001b[0m \u001b[0;32mis\u001b[0m \u001b[0;32mnot\u001b[0m \u001b[0mdtype\u001b[0m\u001b[0;34m:\u001b[0m\u001b[0;34m\u001b[0m\u001b[0;34m\u001b[0m\u001b[0m\n\u001b[1;32m   1840\u001b[0m             \u001b[0mresult\u001b[0m \u001b[0;34m=\u001b[0m \u001b[0mnp\u001b[0m\u001b[0;34m.\u001b[0m\u001b[0marray\u001b[0m\u001b[0;34m(\u001b[0m\u001b[0mresult\u001b[0m\u001b[0;34m,\u001b[0m \u001b[0mdtype\u001b[0m\u001b[0;34m=\u001b[0m\u001b[0mdtype\u001b[0m\u001b[0;34m,\u001b[0m \u001b[0mcopy\u001b[0m\u001b[0;34m=\u001b[0m\u001b[0;32mFalse\u001b[0m\u001b[0;34m)\u001b[0m\u001b[0;34m\u001b[0m\u001b[0;34m\u001b[0m\u001b[0m\n",
            "\u001b[0;32m/usr/local/lib/python3.10/dist-packages/pandas/core/internals/managers.py\u001b[0m in \u001b[0;36mas_array\u001b[0;34m(self, dtype, copy, na_value)\u001b[0m\n\u001b[1;32m   1730\u001b[0m                 \u001b[0marr\u001b[0m\u001b[0;34m.\u001b[0m\u001b[0mflags\u001b[0m\u001b[0;34m.\u001b[0m\u001b[0mwriteable\u001b[0m \u001b[0;34m=\u001b[0m \u001b[0;32mFalse\u001b[0m\u001b[0;34m\u001b[0m\u001b[0;34m\u001b[0m\u001b[0m\n\u001b[1;32m   1731\u001b[0m         \u001b[0;32melse\u001b[0m\u001b[0;34m:\u001b[0m\u001b[0;34m\u001b[0m\u001b[0;34m\u001b[0m\u001b[0m\n\u001b[0;32m-> 1732\u001b[0;31m             \u001b[0marr\u001b[0m \u001b[0;34m=\u001b[0m \u001b[0mself\u001b[0m\u001b[0;34m.\u001b[0m\u001b[0m_interleave\u001b[0m\u001b[0;34m(\u001b[0m\u001b[0mdtype\u001b[0m\u001b[0;34m=\u001b[0m\u001b[0mdtype\u001b[0m\u001b[0;34m,\u001b[0m \u001b[0mna_value\u001b[0m\u001b[0;34m=\u001b[0m\u001b[0mna_value\u001b[0m\u001b[0;34m)\u001b[0m\u001b[0;34m\u001b[0m\u001b[0;34m\u001b[0m\u001b[0m\n\u001b[0m\u001b[1;32m   1733\u001b[0m             \u001b[0;31m# The underlying data was copied within _interleave, so no need\u001b[0m\u001b[0;34m\u001b[0m\u001b[0;34m\u001b[0m\u001b[0m\n\u001b[1;32m   1734\u001b[0m             \u001b[0;31m# to further copy if copy=True or setting na_value\u001b[0m\u001b[0;34m\u001b[0m\u001b[0;34m\u001b[0m\u001b[0m\n",
            "\u001b[0;32m/usr/local/lib/python3.10/dist-packages/pandas/core/internals/managers.py\u001b[0m in \u001b[0;36m_interleave\u001b[0;34m(self, dtype, na_value)\u001b[0m\n\u001b[1;32m   1792\u001b[0m             \u001b[0;32melse\u001b[0m\u001b[0;34m:\u001b[0m\u001b[0;34m\u001b[0m\u001b[0;34m\u001b[0m\u001b[0m\n\u001b[1;32m   1793\u001b[0m                 \u001b[0marr\u001b[0m \u001b[0;34m=\u001b[0m \u001b[0mblk\u001b[0m\u001b[0;34m.\u001b[0m\u001b[0mget_values\u001b[0m\u001b[0;34m(\u001b[0m\u001b[0mdtype\u001b[0m\u001b[0;34m)\u001b[0m\u001b[0;34m\u001b[0m\u001b[0;34m\u001b[0m\u001b[0m\n\u001b[0;32m-> 1794\u001b[0;31m             \u001b[0mresult\u001b[0m\u001b[0;34m[\u001b[0m\u001b[0mrl\u001b[0m\u001b[0;34m.\u001b[0m\u001b[0mindexer\u001b[0m\u001b[0;34m]\u001b[0m \u001b[0;34m=\u001b[0m \u001b[0marr\u001b[0m\u001b[0;34m\u001b[0m\u001b[0;34m\u001b[0m\u001b[0m\n\u001b[0m\u001b[1;32m   1795\u001b[0m             \u001b[0mitemmask\u001b[0m\u001b[0;34m[\u001b[0m\u001b[0mrl\u001b[0m\u001b[0;34m.\u001b[0m\u001b[0mindexer\u001b[0m\u001b[0;34m]\u001b[0m \u001b[0;34m=\u001b[0m \u001b[0;36m1\u001b[0m\u001b[0;34m\u001b[0m\u001b[0;34m\u001b[0m\u001b[0m\n\u001b[1;32m   1796\u001b[0m \u001b[0;34m\u001b[0m\u001b[0m\n",
            "\u001b[0;31mValueError\u001b[0m: could not convert string to float: 'Summer'"
          ]
        }
      ],
      "source": [
        "import pandas as pd\n",
        "import matplotlib.pyplot as plt\n",
        "import seaborn as sns\n",
        "\n",
        "from google.colab import drive\n",
        "drive.mount('/content/drive')\n",
        "# Load the dataset\n",
        "df = pd.read_csv(\"/content/drive/MyDrive/solar_radiation_data_kerala_seasons.csv\")\n",
        "\n",
        "# Display the first few rows of the dataset\n",
        "print(\"First few rows of the dataset:\")\n",
        "print(df.head())\n",
        "\n",
        "# Check for missing values\n",
        "print(\"\\nMissing values in the dataset:\")\n",
        "print(df.isnull().sum())\n",
        "\n",
        "# Summary statistics\n",
        "print(\"\\nSummary statistics:\")\n",
        "print(df.describe())\n",
        "\n",
        "# Explore correlations between variables\n",
        "correlation_matrix = df.corr()\n",
        "plt.figure(figsize=(10, 8))\n",
        "sns.heatmap(correlation_matrix, annot=True, cmap='coolwarm', fmt='.2f')\n",
        "plt.title('Correlation Matrix')\n",
        "plt.show()\n",
        "\n",
        "# Explore distribution of variables\n",
        "plt.figure(figsize=(15, 10))\n",
        "\n",
        "plt.subplot(2, 2, 1)\n",
        "sns.histplot(df['Relative Humidity (%)'], kde=True)\n",
        "plt.title('Relative Humidity Distribution')\n",
        "\n",
        "plt.subplot(2, 2, 2)\n",
        "sns.histplot(df['Solar Zenith Angle'], kde=True)\n",
        "plt.title('Solar Zenith Angle Distribution')\n",
        "\n",
        "plt.subplot(2, 2, 3)\n",
        "sns.histplot(df['Pressure'], kde=True)\n",
        "plt.title('Pressure Distribution')\n",
        "\n",
        "plt.subplot(2, 2, 4)\n",
        "sns.histplot(df['Wind Speed'], kde=True)\n",
        "plt.title('Wind Speed Distribution')\n",
        "\n",
        "plt.tight_layout()\n",
        "plt.show()\n",
        "\n",
        "# Pre-processing (if required)\n",
        "# For example, handling categorical variables or scaling numerical variables\n",
        "\n",
        "# Convert categorical 'Season' variable to numerical using one-hot encoding\n",
        "df = pd.get_dummies(df, columns=['Season'], drop_first=True)\n",
        "\n",
        "# Scale numerical variables if needed (using MinMaxScaler or StandardScaler)\n",
        "\n",
        "# Save pre-processed data to a new CSV file\n",
        "df.to_csv('preprocessed_solar_radiation_data_kerala.csv', index=False)\n",
        "print(df.head())"
      ]
    },
    {
      "cell_type": "code",
      "source": [
        "from google.colab import drive\n",
        "drive.mount('/content/drive')"
      ],
      "metadata": {
        "id": "yxNuOM6FTFZm"
      },
      "execution_count": null,
      "outputs": []
    },
    {
      "cell_type": "code",
      "source": [
        "# Load the dataset\n",
        "df = pd.read_csv(\"/content/drive/MyDrive/preprocessed_solar_radiation_data_kerala.csv\")\n",
        "\n",
        "# Compute correlation with Panel Angle\n",
        "correlation_panel = df.corr()['Panel Angle'].sort_values(ascending=False)\n",
        "print(correlation_panel)"
      ],
      "metadata": {
        "colab": {
          "base_uri": "https://localhost:8080/"
        },
        "id": "vMZK0RA2ACcW",
        "outputId": "62e2a47e-4d24-45aa-afd2-fb35d1dff491"
      },
      "execution_count": null,
      "outputs": [
        {
          "output_type": "stream",
          "name": "stdout",
          "text": [
            "Panel Angle              1.000000\n",
            "Solar Zenith Angle       0.137451\n",
            "Season_Spring            0.099797\n",
            "Season_Summer            0.067726\n",
            "Latitude                -0.016233\n",
            "Longitude               -0.038334\n",
            "Wind Speed              -0.041142\n",
            "Relative Humidity (%)   -0.100716\n",
            "Season_Winter           -0.104049\n",
            "Pressure                -0.120670\n",
            "Capacity                -0.133602\n",
            "Name: Panel Angle, dtype: float64\n"
          ]
        }
      ]
    },
    {
      "cell_type": "code",
      "source": [
        "from sklearn.ensemble import RandomForestRegressor\n",
        "\n",
        "# Separate features and target variable\n",
        "X = df.drop('Panel Angle', axis=1)\n",
        "y = df['Panel Angle']\n",
        "\n",
        "# Initialize Random Forest Regressor\n",
        "rf = RandomForestRegressor(n_estimators=100, random_state=42)\n",
        "\n",
        "# Fit the model\n",
        "rf.fit(X, y)\n",
        "\n",
        "# Feature importance\n",
        "feature_importance = pd.Series(rf.feature_importances_, index=X.columns).sort_values(ascending=False)\n",
        "print(feature_importance)"
      ],
      "metadata": {
        "colab": {
          "base_uri": "https://localhost:8080/"
        },
        "id": "bOcuMwfwARyd",
        "outputId": "565fa85c-ed55-420f-97be-904e9eb3d333"
      },
      "execution_count": null,
      "outputs": [
        {
          "output_type": "stream",
          "name": "stdout",
          "text": [
            "Wind Speed               0.196905\n",
            "Solar Zenith Angle       0.173421\n",
            "Latitude                 0.132270\n",
            "Pressure                 0.132253\n",
            "Capacity                 0.128325\n",
            "Longitude                0.099007\n",
            "Relative Humidity (%)    0.091347\n",
            "Season_Spring            0.019406\n",
            "Season_Summer            0.015923\n",
            "Season_Winter            0.011142\n",
            "dtype: float64\n"
          ]
        }
      ]
    },
    {
      "cell_type": "code",
      "source": [
        "from sklearn.feature_selection import RFE\n",
        "from sklearn.linear_model import LinearRegression  # or any other suitable model\n",
        "\n",
        "# Initialize Linear Regression model\n",
        "model = LinearRegression()\n",
        "\n",
        "# Initialize RFE\n",
        "rfe = RFE(model, n_features_to_select=7)  # Choose the number of features you want\n",
        "\n",
        "# Fit RFE\n",
        "rfe.fit(X, y)\n",
        "\n",
        "# Selected features\n",
        "selected_features = X.columns[rfe.support_]\n",
        "print(selected_features)"
      ],
      "metadata": {
        "colab": {
          "base_uri": "https://localhost:8080/"
        },
        "id": "CNk_gSy6Ae8h",
        "outputId": "5888f4e4-1ab4-480c-c150-0978770b569e"
      },
      "execution_count": null,
      "outputs": [
        {
          "output_type": "stream",
          "name": "stdout",
          "text": [
            "Index(['Longitude', 'Relative Humidity (%)', 'Pressure', 'Wind Speed',\n",
            "       'Season_Spring', 'Season_Summer', 'Season_Winter'],\n",
            "      dtype='object')\n"
          ]
        }
      ]
    },
    {
      "cell_type": "code",
      "source": [
        "from sklearn.model_selection import train_test_split\n",
        "\n",
        "# Load the preprocessed dataset\n",
        "df = pd.read_csv(\"/content/drive/MyDrive/preprocessed_solar_radiation_data_kerala.csv\")\n",
        "\n",
        "# Separate features and target variable\n",
        "X = df.drop('Panel Angle', axis=1)\n",
        "y = df['Panel Angle']\n",
        "\n",
        "# Split the dataset into training (60%) and testing (40%) sets\n",
        "X_train, X_test, y_train, y_test = train_test_split(X, y, test_size=0.4, random_state=42)\n",
        "\n",
        "# Display the shapes of the resulting sets\n",
        "print(\"Training set - X shape:\", X_train.shape, \"y shape:\", y_train.shape)\n",
        "print(\"Testing set - X shape:\", X_test.shape, \"y shape:\", y_test.shape)\n"
      ],
      "metadata": {
        "colab": {
          "base_uri": "https://localhost:8080/"
        },
        "id": "E7Mckk8dAmK1",
        "outputId": "d0d20ee8-9d77-496a-81c0-77a502a50f71"
      },
      "execution_count": null,
      "outputs": [
        {
          "output_type": "stream",
          "name": "stdout",
          "text": [
            "Training set - X shape: (60, 10) y shape: (60,)\n",
            "Testing set - X shape: (40, 10) y shape: (40,)\n"
          ]
        }
      ]
    },
    {
      "cell_type": "code",
      "source": [
        "from sklearn.linear_model import LinearRegression\n",
        "from sklearn.metrics import mean_squared_error, r2_score\n",
        "\n",
        "# Initialize the Linear Regression model\n",
        "model = LinearRegression()\n",
        "\n",
        "# Train the model using the training data\n",
        "model.fit(X_train, y_train)\n",
        "\n",
        "# Predict on the testing set\n",
        "y_pred = model.predict(X_test)\n",
        "\n",
        "# Evaluate the model\n",
        "mse = mean_squared_error(y_test, y_pred)\n",
        "r2 = r2_score(y_test, y_pred)\n",
        "\n",
        "print(\"Mean Squared Error:\", mse)\n",
        "print(\"R-squared Score:\", r2)"
      ],
      "metadata": {
        "colab": {
          "base_uri": "https://localhost:8080/"
        },
        "id": "I-M3riwllVIv",
        "outputId": "105a0715-fc84-4dd8-e9f3-85596b02d6b8"
      },
      "execution_count": null,
      "outputs": [
        {
          "output_type": "stream",
          "name": "stdout",
          "text": [
            "Mean Squared Error: 10.8465127614991\n",
            "R-squared Score: -0.11912370663613125\n"
          ]
        }
      ]
    },
    {
      "cell_type": "code",
      "source": [
        "threshold = 0.5  # Define your threshold for acceptable error\n",
        "\n",
        "# Calculate absolute errors\n",
        "absolute_errors = abs(y_test - y_pred)\n",
        "\n",
        "# Calculate the percentage of predictions within the threshold\n",
        "within_threshold = sum(1 for error in absolute_errors if error <= threshold)\n",
        "accuracy_within_threshold = within_threshold / len(y_test) * 100\n",
        "\n",
        "print(f\"Accuracy within {threshold} units: {accuracy_within_threshold:.2f}%\")\n"
      ],
      "metadata": {
        "colab": {
          "base_uri": "https://localhost:8080/"
        },
        "id": "kf4gsSJOnaBd",
        "outputId": "ca1d12f4-1fee-4b08-8122-64d872a0f7ba"
      },
      "execution_count": null,
      "outputs": [
        {
          "output_type": "stream",
          "name": "stdout",
          "text": [
            "Accuracy within 0.5 units: 10.00%\n"
          ]
        }
      ]
    },
    {
      "cell_type": "code",
      "source": [
        "from sklearn.model_selection import train_test_split\n",
        "from sklearn.metrics import mean_squared_error, r2_score\n",
        "from sklearn.ensemble import GradientBoostingRegressor\n",
        "\n",
        "# Separate features and target variable\n",
        "X = df.drop('Panel Angle', axis=1)\n",
        "y = df['Panel Angle']\n",
        "\n",
        "# Split the data into training and testing sets\n",
        "X_train, X_test, y_train, y_test = train_test_split(X, y, test_size=0.2, random_state=42)\n",
        "\n",
        "# Initialize Gradient Boosting Regressor\n",
        "gb_reg = GradientBoostingRegressor(n_estimators=100, learning_rate=0.1, max_depth=3, random_state=42)\n",
        "\n",
        "# Fit the model\n",
        "gb_reg.fit(X_train, y_train)\n",
        "\n",
        "# Predictions\n",
        "y_pred_train = gb_reg.predict(X_train)\n",
        "y_pred_test = gb_reg.predict(X_test)\n",
        "\n",
        "# Evaluate the model\n",
        "train_rmse = mean_squared_error(y_train, y_pred_train, squared=False)\n",
        "test_rmse = mean_squared_error(y_test, y_pred_test, squared=False)\n",
        "train_r2 = r2_score(y_train, y_pred_train)\n",
        "test_r2 = r2_score(y_test, y_pred_test)\n",
        "\n",
        "print(\"Train RMSE:\", train_rmse)\n",
        "print(\"Test RMSE:\", test_rmse)\n",
        "print(\"Train R^2 Score:\", train_r2)\n",
        "print(\"Test R^2 Score:\", test_r2)\n"
      ],
      "metadata": {
        "colab": {
          "base_uri": "https://localhost:8080/"
        },
        "id": "Hp-0P5JdkPu2",
        "outputId": "87af1b4a-b9f6-4e50-c853-cbd273897bce"
      },
      "execution_count": null,
      "outputs": [
        {
          "output_type": "stream",
          "name": "stdout",
          "text": [
            "Train RMSE: 0.5683310817845851\n",
            "Test RMSE: 3.8752727371272067\n",
            "Train R^2 Score: 0.9691747476150827\n",
            "Test R^2 Score: -0.6455633705906905\n"
          ]
        }
      ]
    },
    {
      "cell_type": "code",
      "source": [
        "import pandas as pd\n",
        "from sklearn.model_selection import train_test_split, GridSearchCV\n",
        "from sklearn.metrics import mean_squared_error, r2_score\n",
        "from sklearn.ensemble import GradientBoostingRegressor\n",
        "\n",
        "# Load the preprocessed dataset\n",
        "df = pd.read_csv('preprocessed_solar_radiation_data_kerala.csv')\n",
        "\n",
        "# Separate features and target variable\n",
        "X = df.drop('Panel Angle', axis=1)\n",
        "y = df['Panel Angle']\n",
        "\n",
        "# Split the data into training and testing sets\n",
        "X_train, X_test, y_train, y_test = train_test_split(X, y, test_size=0.2, random_state=42)\n",
        "\n",
        "# Define hyperparameters grid for Gradient Boosting Regressor\n",
        "param_grid = {\n",
        "    'n_estimators': [50, 100, 200],\n",
        "    'learning_rate': [0.01, 0.1, 0.5],\n",
        "    'max_depth': [3, 5, 7]\n",
        "}\n",
        "\n",
        "# Initialize Gradient Boosting Regressor\n",
        "gb_reg = GradientBoostingRegressor(random_state=42)\n",
        "\n",
        "# Initialize GridSearchCV\n",
        "grid_search = GridSearchCV(estimator=gb_reg, param_grid=param_grid, cv=5, scoring='r2')\n",
        "\n",
        "# Fit GridSearchCV to find the best hyperparameters\n",
        "grid_search.fit(X, y)\n",
        "\n",
        "# Get the best estimator\n",
        "best_gb_reg = grid_search.best_estimator_\n",
        "\n",
        "# Predictions\n",
        "y_pred_train = best_gb_reg.predict(X_train)\n",
        "y_pred_test = best_gb_reg.predict(X_test)\n",
        "\n",
        "# Evaluate the model\n",
        "train_rmse = mean_squared_error(y_train, y_pred_train, squared=False)\n",
        "test_rmse = mean_squared_error(y_test, y_pred_test, squared=False)\n",
        "train_r2 = r2_score(y_train, y_pred_train)\n",
        "test_r2 = r2_score(y_test, y_pred_test)\n",
        "\n",
        "# Print results\n",
        "print(\"Best Parameters:\", grid_search.best_params_)\n",
        "print(\"Train RMSE:\", train_rmse)\n",
        "print(\"Test RMSE:\", test_rmse)\n",
        "print(\"Train R^2 Score:\", train_r2)\n",
        "print(\"Test R^2 Score:\", test_r2)\n"
      ],
      "metadata": {
        "colab": {
          "base_uri": "https://localhost:8080/"
        },
        "id": "_wNQhjcApZ1h",
        "outputId": "fbce3e92-b3ec-43fe-b459-82591ce3ae3a"
      },
      "execution_count": null,
      "outputs": [
        {
          "output_type": "stream",
          "name": "stdout",
          "text": [
            "Best Parameters: {'learning_rate': 0.01, 'max_depth': 3, 'n_estimators': 50}\n",
            "Train RMSE: 2.8046268934309184\n",
            "Test RMSE: 2.7041733949119084\n",
            "Train R^2 Score: 0.24932143822743247\n",
            "Test R^2 Score: 0.19872953134712557\n"
          ]
        }
      ]
    },
    {
      "cell_type": "code",
      "source": [
        "from sklearn.linear_model import Ridge\n",
        "from sklearn.model_selection import GridSearchCV\n",
        "\n",
        "# Initialize the Ridge Regression model\n",
        "ridge = Ridge()\n",
        "\n",
        "# Define a range of alpha values (regularization strength)\n",
        "alphas = [0.01, 0.1, 1, 10, 100]  # Adjust this list as needed\n",
        "\n",
        "# Hyperparameter grid\n",
        "param_grid = {'alpha': alphas}\n",
        "\n",
        "# Perform GridSearchCV to find the best alpha\n",
        "grid_search = GridSearchCV(ridge, param_grid, cv=5, scoring='neg_mean_squared_error')\n",
        "grid_search.fit(X_train, y_train)\n",
        "\n",
        "# Get the best alpha and refit the model with the optimal parameter\n",
        "best_alpha = grid_search.best_params_['alpha']\n",
        "best_ridge = Ridge(alpha=best_alpha)\n",
        "best_ridge.fit(X_train, y_train)\n",
        "\n",
        "# Predict on the testing set\n",
        "y_pred_ridge = best_ridge.predict(X_test)\n",
        "\n",
        "# Evaluate the model\n",
        "mse_ridge = mean_squared_error(y_test, y_pred_ridge)\n",
        "r2_ridge = r2_score(y_test, y_pred_ridge)\n",
        "\n",
        "print(\"Best alpha:\", best_alpha)\n",
        "print(\"Mean Squared Error (Ridge):\", mse_ridge)\n",
        "print(\"R-squared Score (Ridge):\", r2_ridge)"
      ],
      "metadata": {
        "colab": {
          "base_uri": "https://localhost:8080/"
        },
        "id": "XwyCFHjbpTkL",
        "outputId": "40a45d92-9f38-4d55-e535-42477140241c"
      },
      "execution_count": null,
      "outputs": [
        {
          "output_type": "stream",
          "name": "stdout",
          "text": [
            "Best alpha: 100\n",
            "Mean Squared Error (Ridge): 9.817065629477185\n",
            "R-squared Score (Ridge): -0.0757014644845222\n"
          ]
        }
      ]
    },
    {
      "cell_type": "code",
      "source": [
        "# Example latitude and longitude values (Kovalam)\n",
        "new_latitude = 8.383230\n",
        "new_longitude = 76.983566\n",
        "\n",
        "# Create a DataFrame with new values for Latitude and Longitude\n",
        "new_data = pd.DataFrame({\n",
        "    'Latitude': [new_latitude],\n",
        "    'Longitude': [new_longitude],\n",
        "    'Capacity': [250],  # Placeholder value for Capacity\n",
        "    'Pressure': [30.0],  # Placeholder value for Pressure\n",
        "    'Relative Humidity (%)': [80],  # Placeholder value for Relative Humidity\n",
        "    'Season_Spring': [0],  # Placeholder value for Season_Spring (0 or 1)\n",
        "    'Season_Summer': [1],  # Placeholder value for Season_Summer (0 or 1)\n",
        "    'Season_Winter': [0],  # Placeholder value for Season_Winter (0 or 1)\n",
        "    'Solar Zenith Angle': [120.0],  # Placeholder value for Solar Zenith Angle\n",
        "    'Wind Speed': [3.0]  # Placeholder value for Wind Speed\n",
        "})\n",
        "\n",
        "# Rearrange columns in new_data to match the order of features used during training\n",
        "new_data = new_data[X_test.columns]\n",
        "\n",
        "# Use the trained Ridge Regression model to predict Panel Angle for the new data\n",
        "predicted_panel_angle = best_ridge.predict(new_data)\n",
        "\n",
        "print(\"Predicted Panel Angle:\", predicted_panel_angle[0])"
      ],
      "metadata": {
        "colab": {
          "base_uri": "https://localhost:8080/"
        },
        "id": "Kzhx7Y8rV44Q",
        "outputId": "a1fe873a-d7dc-41d2-98cc-c7613b255dd3"
      },
      "execution_count": null,
      "outputs": [
        {
          "output_type": "stream",
          "name": "stdout",
          "text": [
            "Predicted Panel Angle: 30.82318876487257\n"
          ]
        }
      ]
    },
    {
      "cell_type": "code",
      "source": [
        "# Example 2  latitude and longitude values (Edappaly)\n",
        "new_latitude = 10.0261\n",
        "new_longitude = 76.3125\n",
        "\n",
        "# Create a DataFrame with new values for Latitude and Longitude\n",
        "new_data = pd.DataFrame({\n",
        "    'Latitude': [new_latitude],\n",
        "    'Longitude': [new_longitude],\n",
        "    'Capacity': [250],  # Placeholder value for Capacity\n",
        "    'Pressure': [30.0],  # Placeholder value for Pressure\n",
        "    'Relative Humidity (%)': [80],  # Placeholder value for Relative Humidity\n",
        "    'Season_Spring': [0],  # Placeholder value for Season_Spring (0 or 1)\n",
        "    'Season_Summer': [1],  # Placeholder value for Season_Summer (0 or 1)\n",
        "    'Season_Winter': [0],  # Placeholder value for Season_Winter (0 or 1)\n",
        "    'Solar Zenith Angle': [120.0],  # Placeholder value for Solar Zenith Angle\n",
        "    'Wind Speed': [3.0]  # Placeholder value for Wind Speed\n",
        "})\n",
        "\n",
        "# Rearrange columns in new_data to match the order of features used during training\n",
        "new_data = new_data[X_test.columns]\n",
        "\n",
        "# Use the trained Ridge Regression model to predict Panel Angle for the new data\n",
        "predicted_panel_angle = best_ridge.predict(new_data)\n",
        "\n",
        "print(\"Predicted Panel Angle:\", predicted_panel_angle[0])"
      ],
      "metadata": {
        "colab": {
          "base_uri": "https://localhost:8080/"
        },
        "id": "2NwohAu-WBEb",
        "outputId": "0d32619d-6e7f-4cd9-a7c8-7e544de3e17d"
      },
      "execution_count": null,
      "outputs": [
        {
          "output_type": "stream",
          "name": "stdout",
          "text": [
            "Predicted Panel Angle: 30.79290926225083\n"
          ]
        }
      ]
    },
    {
      "cell_type": "code",
      "source": [
        "# Example 3  latitude and longitude values (Kasaragod)\n",
        "new_latitude = 12.4996\n",
        "new_longitude = 74.9869\n",
        "\n",
        "# Create a DataFrame with new values for Latitude and Longitude\n",
        "new_data = pd.DataFrame({\n",
        "    'Latitude': [new_latitude],\n",
        "    'Longitude': [new_longitude],\n",
        "    'Capacity': [250],  # Placeholder value for Capacity\n",
        "    'Pressure': [30.0],  # Placeholder value for Pressure\n",
        "    'Relative Humidity (%)': [80],  # Placeholder value for Relative Humidity\n",
        "    'Season_Spring': [0],  # Placeholder value for Season_Spring (0 or 1)\n",
        "    'Season_Summer': [1],  # Placeholder value for Season_Summer (0 or 1)\n",
        "    'Season_Winter': [0],  # Placeholder value for Season_Winter (0 or 1)\n",
        "    'Solar Zenith Angle': [120.0],  # Placeholder value for Solar Zenith Angle\n",
        "    'Wind Speed': [3.0]  # Placeholder value for Wind Speed\n",
        "})\n",
        "\n",
        "# Rearrange columns in new_data to match the order of features used during training\n",
        "new_data = new_data[X_test.columns]\n",
        "\n",
        "# Use the trained Ridge Regression model to predict Panel Angle for the new data\n",
        "predicted_panel_angle = best_ridge.predict(new_data)\n",
        "\n",
        "print(\"Predicted Panel Angle:\", predicted_panel_angle[0])"
      ],
      "metadata": {
        "colab": {
          "base_uri": "https://localhost:8080/"
        },
        "id": "CBrZjWyYWHHw",
        "outputId": "1ec2af60-9203-47ed-bd83-7238545a5154"
      },
      "execution_count": null,
      "outputs": [
        {
          "output_type": "stream",
          "name": "stdout",
          "text": [
            "Predicted Panel Angle: 30.763028713641603\n"
          ]
        }
      ]
    },
    {
      "cell_type": "code",
      "source": [
        "from sklearn.naive_bayes import MultinomialNB\n",
        "from sklearn.metrics import accuracy_score\n",
        "\n",
        "# Define categories for Panel Angle (for demonstration purposes)\n",
        "# You should adapt this based on your actual data distribution\n",
        "# For example, you can use pandas' qcut to create categories\n",
        "bins = [-float('inf'), 250, 300, float('inf')]\n",
        "labels = ['Low', 'Medium', 'High']\n",
        "df['Panel Angle Category'] = pd.cut(df['Panel Angle'], bins=bins, labels=labels)\n",
        "\n",
        "# Separate features and target variable\n",
        "X = df.drop(['Panel Angle', 'Panel Angle Category'], axis=1)\n",
        "y = df['Panel Angle Category']\n",
        "\n",
        "# Split the dataset into training and testing sets\n",
        "X_train, X_test, y_train, y_test = train_test_split(X, y, test_size=0.4, random_state=42)\n",
        "\n",
        "# Initialize and train the Multinomial Naive Bayes classifier\n",
        "model_nb = MultinomialNB()\n",
        "model_nb.fit(X_train, y_train)\n",
        "\n",
        "# Predict on the testing set\n",
        "y_pred_nb = model_nb.predict(X_test)\n",
        "\n",
        "# Calculate accuracy\n",
        "accuracy = accuracy_score(y_test, y_pred_nb)\n",
        "print(\"Accuracy using MultinomialNB:\", accuracy)"
      ],
      "metadata": {
        "colab": {
          "base_uri": "https://localhost:8080/"
        },
        "id": "EovS7kLltURy",
        "outputId": "90d03292-ab5f-4719-fb5d-ffb8d74f0a71"
      },
      "execution_count": null,
      "outputs": [
        {
          "output_type": "stream",
          "name": "stdout",
          "text": [
            "Accuracy using MultinomialNB: 1.0\n"
          ]
        }
      ]
    },
    {
      "cell_type": "code",
      "source": [],
      "metadata": {
        "id": "ZCWtxBXsuAdO"
      },
      "execution_count": null,
      "outputs": []
    }
  ]
}